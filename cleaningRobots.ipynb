{
 "cells": [
  {
   "cell_type": "code",
   "execution_count": 419,
   "metadata": {},
   "outputs": [],
   "source": [
    "import agentpy as ap\n",
    "import random as rdm"
   ]
  },
  {
   "cell_type": "code",
   "execution_count": 420,
   "metadata": {},
   "outputs": [],
   "source": [
    "class CleaningRobot(ap.Agent):\n",
    "\n",
    "    def setup(self):\n",
    "        self.moves = 0\n",
    "        self.nextMove = None\n",
    "\n",
    "    def getNextMove(self, x, y, boundX, boundY, unavailable):\n",
    "        options = self.possible_moves(\n",
    "            x,\n",
    "            y,\n",
    "            boundX, \n",
    "            boundY,\n",
    "            unavailable\n",
    "        )\n",
    "        \n",
    "        if len(options) != 0:\n",
    "            self.nextMove = self.model.random.choices(options)[0]\n",
    "\n",
    "    def possible_moves(self, x, y, boundX, boundY, unavailable):\n",
    "        a = []\n",
    "        validMoves = []\n",
    "\n",
    "        for possibleX in [x, x + 1, x - 1]:\n",
    "            for possibleY in [y, y + 1, y - 1]:\n",
    "                a.append((possibleX, possibleY))\n",
    "                if ((possibleX, possibleY) not in unavailable) and\\\n",
    "                    (possibleX < boundX and possibleX >= 0) and\\\n",
    "                    (possibleY < boundY and possibleY >= 0) and\\\n",
    "                    (possibleY != y or possibleX != x):\n",
    "                        validMoves.append((possibleX, possibleY))\n",
    "\n",
    "        return validMoves\n"
   ]
  },
  {
   "cell_type": "code",
   "execution_count": 421,
   "metadata": {},
   "outputs": [],
   "source": [
    "class CleaningModel(ap.Model):\n",
    "    \n",
    "    def setup(self):\n",
    "\n",
    "#Create agents (robots)\n",
    "        self.agents = ap.AgentList(\n",
    "            self,\n",
    "            self.p[\"agents\"], \n",
    "            CleaningRobot\n",
    "        )\n",
    "\n",
    "#Create grid(donde limpian)\n",
    "        self.floor = ap.Grid(\n",
    "            self,\n",
    "            (self.p['M'], self.p['N']), track_empty=True, check_border=False\n",
    "        )\n",
    "\n",
    "        self.floor.add_agents(\n",
    "            self.agents, [(1,1)] * self.p[\"agents\"], empty=True\n",
    "        )\n",
    "\n",
    "#Create dirty tiles\n",
    "#Estado 0: Limpio, 1: Sucio\n",
    "        self.dirtyTiles = 0\n",
    "        self.tilesLeft = 0\n",
    "        self.time = self.p[\"steps\"]\n",
    "        self.floor.add_field(\"state\", -1)\n",
    "\n",
    "        #Creates tiles in random pos\n",
    "        for y in range(self.p['M']):\n",
    "            for x in range(self.p['N']):\n",
    "                self.floor[\"state\"][y][x] = rdm.choices((0,1), [1-self.p[\"avgSucio\"], self.p[\"avgSucio\"]])[0]\n",
    "                \n",
    "                if self.floor[\"state\"][y][x] == 1:\n",
    "                    self.dirtyTiles += 1\n",
    "\n",
    "        self.tilesLeft = self.dirtyTiles\n",
    "\n",
    "    def step(self):\n",
    "        for clean in self.agents:\n",
    "            x = self.floor.positions[clean][0]\n",
    "            y = self.floor.positions[clean][1]\n",
    "\n",
    "            # tile is dirty.\n",
    "            if self.floor[\"state\"][y][x] == 1:\n",
    "                self.floor[\"state\"][y][x] = 0\n",
    "                self.tilesLeft -= 1\n",
    "\n",
    "            else: # tile is clean\n",
    "                if clean.nextMove == (x, y) or clean.nextMove is None: # future move hasn't been calc.\n",
    "                    clean.getNextMove(\n",
    "                        x,\n",
    "                        y,\n",
    "                        self.p['M'],\n",
    "                        self.p['N'],\n",
    "                        [\n",
    "                            self.floor.positions[neighbor]\n",
    "                            for neighbor in self.floor.neighbors(clean)\n",
    "                        ]\n",
    "                    )\n",
    "\n",
    "                else: # future move is already calc.\n",
    "                    clean.moves += 1\n",
    "                    self.floor.move_to(clean, clean.nextMove)\n",
    "\n",
    "        self.time -= 1\n",
    "\n",
    "        if self.tilesLeft == 0 or self.time < 1:\n",
    "            self.stop()\n",
    "\n",
    "    def end(self):\n",
    "        self.report(\n",
    "            [\"steps\"],\n",
    "            self.p[\"steps\"] - self.time\n",
    "        )\n",
    "\n",
    "        self.report(\n",
    "            [\"moves\"],\n",
    "            self.agents[0].moves\n",
    "        )\n",
    "\n",
    "        self.report([\"cleaned\"], str(int((self.dirtyTiles - self.tilesLeft) / self.dirtyTiles * 100)) + '%')\n",
    "\n"
   ]
  },
  {
   "cell_type": "code",
   "execution_count": 422,
   "metadata": {},
   "outputs": [],
   "source": [
    "# Define parameters\n",
    "parameters = {\n",
    "    'agents': 10,\n",
    "    'M': 15,\n",
    "    'N': 15,\n",
    "    'steps': 200,\n",
    "    'avgSucio': .9\n",
    "}\n"
   ]
  },
  {
   "cell_type": "code",
   "execution_count": 423,
   "metadata": {},
   "outputs": [
    {
     "name": "stdout",
     "output_type": "stream",
     "text": [
      "Completed: 200 steps\n",
      "Run time: 0:00:00.308838\n",
      "Simulation finished\n"
     ]
    }
   ],
   "source": [
    "model = CleaningModel(parameters)\n",
    "results = model.run()\n"
   ]
  },
  {
   "cell_type": "code",
   "execution_count": 424,
   "metadata": {},
   "outputs": [
    {
     "name": "stdout",
     "output_type": "stream",
     "text": [
      "200\n",
      "81%\n",
      "92\n"
     ]
    }
   ],
   "source": [
    "print(results.reporters[\"steps\"][0])\n",
    "print(results.reporters[\"cleaned\"][0])\n",
    "print(results.reporters[\"moves\"][0])\n"
   ]
  }
 ],
 "metadata": {
  "interpreter": {
   "hash": "916dbcbb3f70747c44a77c7bcd40155683ae19c65e1c03b4aa3499c5328201f1"
  },
  "kernelspec": {
   "display_name": "Python 3.8.10 64-bit",
   "language": "python",
   "name": "python3"
  },
  "language_info": {
   "codemirror_mode": {
    "name": "ipython",
    "version": 3
   },
   "file_extension": ".py",
   "mimetype": "text/x-python",
   "name": "python",
   "nbconvert_exporter": "python",
   "pygments_lexer": "ipython3",
   "version": "3.10.0"
  },
  "orig_nbformat": 4
 },
 "nbformat": 4,
 "nbformat_minor": 2
}
